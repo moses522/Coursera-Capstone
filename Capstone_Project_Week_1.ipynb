{
 "cells": [
  {
   "cell_type": "markdown",
   "metadata": {},
   "source": [
    "# Restaurants in Cape Town\n",
    "___\n",
    "## Introduction\n",
    "\n",
    "The city of Cape Town is a popular tourist destination that offers various activities and tourist attractions. Something that would be of interest to visitors and residents is the large variety of restaurants available and their locations relative to where they stay. It would be good for them to know which areas of the city have their favourite type of restaurant before deciding where to stay. A visitor, for example, can decide to stay in an area where Italian restaurants are popular, or an area with many different kinds of restaurants if they prefer to have more options. In this report, we use location data to locate the suburbs (neighbourhoods) of interest and cluster them into different groups to see how they differentiate based on the types of restaurants they accomodate. This will be of interest not only to visitors and residents, but also to those who would like to open restaurants. Knowing which types of restaurants are more popular in which area will be invaluable information to help them make a decision."
   ]
  },
  {
   "cell_type": "markdown",
   "metadata": {},
   "source": [
    "## Data\n",
    "\n",
    "Data was sourced from Google Maps and Foursquare. Google maps was used to acquire the precise coordinates of the suburbs of interest. These coordinates were used together with Foursquare to get the location data of venues within a specified radius from the point of interest. The data returned by Foursquare includes a list of venues, their coordinates and their categories. We will be focusing on the following suburbs: Cape Town City Centre, Waterfront, Gardens, De Waterkant,  Tamboerskloof, Camps Bay, Sea Point and Green Point."
   ]
  }
 ],
 "metadata": {
  "kernelspec": {
   "display_name": "Python 3",
   "language": "python",
   "name": "python3"
  },
  "language_info": {
   "codemirror_mode": {
    "name": "ipython",
    "version": 3
   },
   "file_extension": ".py",
   "mimetype": "text/x-python",
   "name": "python",
   "nbconvert_exporter": "python",
   "pygments_lexer": "ipython3",
   "version": "3.6.3"
  }
 },
 "nbformat": 4,
 "nbformat_minor": 2
}
